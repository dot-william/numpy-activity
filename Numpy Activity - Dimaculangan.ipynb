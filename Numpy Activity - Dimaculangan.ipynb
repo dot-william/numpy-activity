{
 "cells": [
  {
   "attachments": {},
   "cell_type": "markdown",
   "metadata": {},
   "source": [
    "## NumPy for Machine Learning Programming Activity\n",
    "\n",
    "In this programming activity, you will practice using NumPy, a powerful library for numerical computing, in the context of machine learning. NumPy provides efficient data structures and functions for working with arrays, which are fundamental for many machine learning tasks.\n",
    "\n",
    "### Instructions\n",
    "- For each question, write a code snippet using NumPy to solve the problem.\n",
    "- Your answer should be written as a code block that demonstrates the solution.\n",
    "- Additional operations beyond the discussed ones may also be useful in solving the questions.\n",
    "- Feel free to refer to the NumPy documentation\n",
    "- Read each question carefully and provide the code snippet that solves it.\n",
    "- Test your code to ensure it produces the correct output.\n",
    "\n",
    "### Grading\n",
    "- Your code will be graded based on correctness, adherence to the instructions, and clarity of your code.\n",
    "- Make sure your code is well-structured, commented, and easy to understand.\n",
    "- Remember to run your code and verify the output before submitting your notebook.\n",
    "\n",
    "### Scoring System\n",
    "\n",
    "#### NumPy Solution:\n",
    "- 3 points: The solution meets all the parameters mentioned above, demonstrating a thorough understanding and efficient use of NumPy.\n",
    "- 2 points: The solution is mostly correct and adheres to the instructions, but may have minor issues or could be optimized further.\n",
    "- 1 point: The solution partially meets the requirements, but there are significant issues or deviations from the instructions.\n",
    "- 0 points: The solution does not address the question or provides an incorrect solution.\n",
    "\n",
    "#### Python Solution (Deduction Points):\n",
    "- Deduct 1 point from the total score, regardless of correctness or code quality, if a Python solution is provided instead of a NumPy solution.\n",
    "\n",
    "The total score for each question will be the maximum points earned in either the NumPy solution category or the Python solution category. If a NumPy solution is provided, the deduction points will not be applied.\n",
    "\n",
    "Answer each question with the appropriate code snippet using NumPy operations. Good luck!"
   ]
  },
  {
   "cell_type": "code",
   "execution_count": null,
   "metadata": {},
   "outputs": [],
   "source": [
    "%pip install numpy"
   ]
  },
  {
   "cell_type": "code",
   "execution_count": null,
   "metadata": {},
   "outputs": [],
   "source": [
    "import numpy as np"
   ]
  },
  {
   "attachments": {},
   "cell_type": "markdown",
   "metadata": {},
   "source": [
    "### Questions"
   ]
  },
  {
   "attachments": {},
   "cell_type": "markdown",
   "metadata": {},
   "source": [
    "1. Array Manipulation and Statistical Analysis:\n",
    "   - Create a 2-dimensional array of shape (4, 5) with random integer values between 1 and 100. Reshape the array into a 1-dimensional array, and then find the minimum, maximum, and mean values of the reshaped array.\n",
    "\n",
    "   Sample Output:\n",
    "      ```\n",
    "      5\n",
    "      91\n",
    "      35.35\n",
    "      ```"
   ]
  },
  {
   "cell_type": "code",
   "execution_count": null,
   "metadata": {},
   "outputs": [],
   "source": [
    "# Create a 2-dimensional array\n",
    "# array = \n",
    "\n",
    "# Reshape the array into a 1-dimensional array\n",
    "# reshaped_array = \n",
    "\n",
    "# Find the minimum, maximum, and mean values\n",
    "# min_value = \n",
    "# max_value = \n",
    "# mean_value = \n",
    "\n",
    "# print(min_value)\n",
    "# print(max_value)\n",
    "# print(mean_value)"
   ]
  },
  {
   "attachments": {},
   "cell_type": "markdown",
   "metadata": {},
   "source": [
    "2. Array Concatenation and Filtering:\n",
    "   - Generate a random 1-dimensional array of size 10 with values between 1 and 50. Create a new array by concatenating the original array with an array of zeros of the same size. Filter out all values greater than 30 from the new array.\n",
    "\n",
    "   Sample Output:\n",
    "   ```\n",
    "   [29  7 20 29  0  0  0  0  0  0  0  0  0  0]\n",
    "   ```"
   ]
  },
  {
   "cell_type": "code",
   "execution_count": null,
   "metadata": {},
   "outputs": [],
   "source": [
    "# Generate a random 1-dimensional array\n",
    "# array = \n",
    "\n",
    "# Concatenate the original array with an array of zeros\n",
    "# concatenated_array = \n",
    "\n",
    "# Filter out values greater than 30\n",
    "# filtered_array = \n",
    "\n",
    "# print(filtered_array)"
   ]
  },
  {
   "attachments": {},
   "cell_type": "markdown",
   "metadata": {},
   "source": [
    "3. Array Manipulation and Indexing:\n",
    "   - Create a 2-dimensional array of shape (3, 4) with random integer values between 1 and 10. Reshape the array into a 1-dimensional array, and then find the indices of the top three maximum values in the reshaped array.\n",
    "\n",
    "   Sample Output:\n",
    "   ```\n",
    "   [ 5 11  7]\n",
    "   ```"
   ]
  },
  {
   "cell_type": "code",
   "execution_count": null,
   "metadata": {},
   "outputs": [],
   "source": [
    "# Create a 2-dimensional array\n",
    "# array = \n",
    "\n",
    "# Reshape the array into a 1-dimensional array\n",
    "# reshaped_array = \n",
    "\n",
    "# Find the indices of the top three maximum values\n",
    "# indices = \n",
    "\n",
    "# print(indices)"
   ]
  },
  {
   "attachments": {},
   "cell_type": "markdown",
   "metadata": {},
   "source": [
    "4. Array Functions and Indexing:\n",
    "   - Generate a random 2-dimensional array of shape (5, 5) with values between 1 and 100. Find the unique elements in the array and then retrieve the indices of all occurrences of the minimum value.\n",
    "\n",
    "   Sample Output:\n",
    "   ```\n",
    "   [ 1  2 14 15 17 21 23 24 27 28 31 34 35 37 44 48 58 59 60 72 81 84 89 92\n",
    "   94]\n",
    "   (array([0], dtype=int64), array([1], dtype=int64))\n",
    "   ```"
   ]
  },
  {
   "cell_type": "code",
   "execution_count": null,
   "metadata": {},
   "outputs": [],
   "source": [
    "# Generate a random 2-dimensional array\n",
    "# array = \n",
    "\n",
    "# Find the unique elements\n",
    "# unique_elements = \n",
    "\n",
    "# Retrieve the indices of all occurrences of the minimum value\n",
    "# indices = \n",
    "\n",
    "# print(unique_elements)\n",
    "# print(indices)"
   ]
  },
  {
   "attachments": {},
   "cell_type": "markdown",
   "metadata": {},
   "source": [
    "5. Array Operations and Slicing:\n",
    "   - Create a 2-dimensional array of shape (6, 6) with random integer values between 1 and 100. Calculate the sum of each row and retrieve the row with the maximum sum.\n",
    "\n",
    "   Sample Output:\n",
    "   ```\n",
    "   [70 57 67 98 56 73]\n",
    "   ```"
   ]
  },
  {
   "cell_type": "code",
   "execution_count": null,
   "metadata": {},
   "outputs": [],
   "source": [
    "# Create a 2-dimensional array\n",
    "# array = \n",
    "\n",
    "# Calculate the sum of each row\n",
    "# row_sums = \n",
    "\n",
    "# Retrieve the row with the maximum sum\n",
    "# max_sum_row = \n",
    "\n",
    "# print(max_sum_row)"
   ]
  },
  {
   "attachments": {},
   "cell_type": "markdown",
   "metadata": {},
   "source": [
    "6. Array Generation and Filtering:\n",
    "   - Generate a random 1-dimensional array of size 20 with values between 1 and 100. Create a new array by replacing all even values in the original array with zeros.\n",
    "\n",
    "   Sample Output:\n",
    "   ```\n",
    "   [51 81 59  0  0  0 67  0  0 27 95 49  0 13  3 17  0 87 69 61]\n",
    "   ```"
   ]
  },
  {
   "cell_type": "code",
   "execution_count": null,
   "metadata": {},
   "outputs": [],
   "source": [
    "# Generate a random 1-dimensional array\n",
    "# array = \n",
    "\n",
    "# Replace all even values with zeros\n",
    "# filtered_array = \n",
    "\n",
    "# print(filtered_array)"
   ]
  },
  {
   "attachments": {},
   "cell_type": "markdown",
   "metadata": {},
   "source": [
    "7. Broadcasting and Element-wise Operations:\n",
    "   - Create a 2-dimensional array of shape (3, 3) with random integer values between 1 and 10. Multiply each element in the array by a scalar value of 2.\n",
    "\n",
    "   Sample Output:\n",
    "   ```\n",
    "   [[14 16  6]\n",
    "    [ 6 10  8]\n",
    "    [12  8  4]]\n",
    "   ```"
   ]
  },
  {
   "cell_type": "code",
   "execution_count": null,
   "metadata": {},
   "outputs": [],
   "source": [
    "# Create a 2-dimensional array\n",
    "# array = \n",
    "\n",
    "# Multiply each element by a scalar value of 2\n",
    "# multiplied_array = \n",
    "\n",
    "# print(multiplied_array)"
   ]
  },
  {
   "attachments": {},
   "cell_type": "markdown",
   "metadata": {},
   "source": [
    "8. Array Sorting and Ranking:\n",
    "   - Generate a random 1-dimensional array of size 10 with values between 1 and 100. Sort the array in descending order, and retrieve the indices that would sort the array in ascending order.\n",
    "\n",
    "   Sample Output:\n",
    "   ```\n",
    "   [99 95 78 67 65 61 32 28  7  1]\n",
    "   [4 0 1 7 3 2 6 9 5 8]\n",
    "   ```"
   ]
  },
  {
   "cell_type": "code",
   "execution_count": null,
   "metadata": {},
   "outputs": [],
   "source": [
    "# Generate a random 1-dimensional array\n",
    "# array = \n",
    "\n",
    "# Sort the array in descending order\n",
    "# sorted_array = \n",
    "\n",
    "# Retrieve the indices that would sort the array in ascending order\n",
    "# ascending_indices = \n",
    "\n",
    "# print(sorted_array)\n",
    "# print(ascending_indices)"
   ]
  },
  {
   "attachments": {},
   "cell_type": "markdown",
   "metadata": {},
   "source": [
    "9. Array Reshaping and Broadcasting:\n",
    "   - Create a 1-dimensional array with values from 1 to 12. Reshape the array into a 2-dimensional array of shape (3, 4). Create a 1-dimensional array of shape (3, 1) with values [1, 2, 3]. Add the 1-dimensional array to each column of the reshaped array.\n",
    "\n",
    "   Sample Output:\n",
    "   ```\n",
    "   [[ 2  3  4  5]\n",
    "    [ 7  8  9 10]\n",
    "    [12 13 14 15]]\n",
    "   ```"
   ]
  },
  {
   "cell_type": "code",
   "execution_count": null,
   "metadata": {},
   "outputs": [],
   "source": [
    "# Create a 1-dimensional array\n",
    "# array = \n",
    "\n",
    "# Reshape the array into a 2-dimensional array\n",
    "# reshaped_array = \n",
    "\n",
    "# Create a 1-dimensional array to be added to each column\n",
    "# addition_array = \n",
    "\n",
    "# Add the 1-dimensional array to each column\n",
    "# result_array = \n",
    "\n",
    "# print(result_array)"
   ]
  },
  {
   "attachments": {},
   "cell_type": "markdown",
   "metadata": {},
   "source": [
    "10. Logical Operations and Indexing:\n",
    "    - Generate a random 1-dimensional array of size 10 with values between 0 and 1. Create a new array by replacing values greater than 0.5 with 1 and values less than or equal to 0.5 with 0.\n",
    "\n",
    "    Sample Output:\n",
    "    ```\n",
    "    [1 1 0 0 1 1 0 1 0 1]\n",
    "    ```"
   ]
  },
  {
   "cell_type": "code",
   "execution_count": null,
   "metadata": {},
   "outputs": [],
   "source": [
    "# Generate a random 1-dimensional array\n",
    "# array = \n",
    "\n",
    "# Create a new array with values replaced by 0 or 1\n",
    "# new_array = \n",
    "\n",
    "# print(new_array)"
   ]
  }
 ],
 "metadata": {
  "kernelspec": {
   "display_name": "env",
   "language": "python",
   "name": "python3"
  },
  "language_info": {
   "codemirror_mode": {
    "name": "ipython",
    "version": 3
   },
   "file_extension": ".py",
   "mimetype": "text/x-python",
   "name": "python",
   "nbconvert_exporter": "python",
   "pygments_lexer": "ipython3",
   "version": "3.10.8"
  },
  "orig_nbformat": 4
 },
 "nbformat": 4,
 "nbformat_minor": 2
}
