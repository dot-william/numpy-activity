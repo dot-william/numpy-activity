{
 "cells": [
  {
   "attachments": {},
   "cell_type": "markdown",
   "metadata": {},
   "source": [
    "# NumPy Material\n",
    "\n",
    "NumPy is a fundamental library in Python for scientific computing and data analysis, and it is widely used in data science. It provides an efficient way to store and manipulate large sets of data. It provides an array object that is much more efficient than Python's built-in data structures like lists and tuples, especially for large datasets. NumPy provides a large number of fast numerical operations that can be performed on arrays. NumPy is often used in conjunction with other data science libraries like Pandas, Matplotlib, and Scikit-Learn."
   ]
  },
  {
   "cell_type": "code",
   "execution_count": 2,
   "metadata": {},
   "outputs": [],
   "source": [
    "# 1. Activate the virtual environment.\n",
    "# 2. Use the command that can be seen below in the terminal to install numpy.\n",
    "\n",
    "# pip install numpy"
   ]
  },
  {
   "attachments": {},
   "cell_type": "markdown",
   "metadata": {},
   "source": [
    "## Importing NumPy"
   ]
  },
  {
   "cell_type": "code",
   "execution_count": 3,
   "metadata": {},
   "outputs": [
    {
     "ename": "ModuleNotFoundError",
     "evalue": "No module named 'numpy'",
     "output_type": "error",
     "traceback": [
      "\u001b[1;31m---------------------------------------------------------------------------\u001b[0m",
      "\u001b[1;31mModuleNotFoundError\u001b[0m                       Traceback (most recent call last)",
      "\u001b[1;32mc:\\Users\\WDIMACULANGAN\\Desktop\\Activity\\numpy-activity\\Numpy Material.ipynb Cell 4\u001b[0m line \u001b[0;36m1\n\u001b[1;32m----> <a href='vscode-notebook-cell:/c%3A/Users/WDIMACULANGAN/Desktop/Activity/numpy-activity/Numpy%20Material.ipynb#W3sZmlsZQ%3D%3D?line=0'>1</a>\u001b[0m \u001b[39mimport\u001b[39;00m \u001b[39mnumpy\u001b[39;00m \u001b[39mas\u001b[39;00m \u001b[39mnp\u001b[39;00m\n",
      "\u001b[1;31mModuleNotFoundError\u001b[0m: No module named 'numpy'"
     ]
    }
   ],
   "source": [
    "import numpy as np"
   ]
  },
  {
   "attachments": {},
   "cell_type": "markdown",
   "metadata": {},
   "source": [
    "## Creating a NumPy Array"
   ]
  },
  {
   "cell_type": "code",
   "execution_count": null,
   "metadata": {},
   "outputs": [],
   "source": [
    "lst_a = [5, 1, 2, 8, 11]\n",
    "# Creates a NumPy array from a Python list or tuple\n",
    "arr_a = np.array(lst_a)\n",
    "\n",
    "print('Python list: ')\n",
    "print(lst_a)\n",
    "print('\\nNumPy array: ')\n",
    "print(arr_a)"
   ]
  },
  {
   "cell_type": "code",
   "execution_count": null,
   "metadata": {},
   "outputs": [],
   "source": [
    "# Creates a NumPy array with regularly spaced values within a given interval\n",
    "# params: (start, stop, step)\n",
    "arr_pattern = np.arange(1, 20, 2)\n",
    "\n",
    "# Creates a NumPy array with a specified number of evenly spaced values within a given interval\n",
    "# params: (start, stop, no. of elements)\n",
    "arr_linspace = np.linspace(10, 100, 3)\n",
    "\n",
    "print('np.arange: ')\n",
    "print(arr_pattern)\n",
    "print('\\nnp.linspace: ')\n",
    "print(arr_linspace)"
   ]
  },
  {
   "cell_type": "code",
   "execution_count": null,
   "metadata": {},
   "outputs": [],
   "source": [
    "# Creates a NumPy array of all zeros\n",
    "# params: ([rows, cols])\n",
    "arr_zero = np.zeros([2, 3])\n",
    "\n",
    "# Creates a NumPy array of all ones\n",
    "# params: ([rows, cols])\n",
    "arr_ones = np.ones([1, 4])\n",
    "\n",
    "# Creates a NumPy array of random numbers between 0 and 1\n",
    "# params: (no. of elements)\n",
    "arr_rand = np.random.rand(6)\n",
    "\n",
    "print('np.zeros: ')\n",
    "print(arr_zero)\n",
    "print('\\nnp.ones: ')\n",
    "print(arr_ones)\n",
    "print('\\nnp.random.rand: ')\n",
    "print(arr_rand)"
   ]
  },
  {
   "attachments": {},
   "cell_type": "markdown",
   "metadata": {},
   "source": [
    "## Python and NumPy implementation"
   ]
  },
  {
   "cell_type": "code",
   "execution_count": null,
   "metadata": {},
   "outputs": [],
   "source": [
    "# Using a for loop to square each element\n",
    "squared_lst = []\n",
    "for i in arr_a:\n",
    "    squared_lst.append(i ** 2)\n",
    "\n",
    "print('From Python loop approach: ')\n",
    "print(squared_lst)\n",
    "\n",
    "# Using list comprehension to square the elements\n",
    "squared_lst_comp = [i ** 2 for i in arr_a]\n",
    "\n",
    "print('\\nFrom list comprehension approach: ')\n",
    "print(squared_lst_comp)\n",
    "\n",
    "# Using NumPy to square the elements\n",
    "squared_arr = arr_a ** 2\n",
    "\n",
    "print('\\nFrom NumPy approach: ')\n",
    "print(squared_arr)"
   ]
  },
  {
   "attachments": {},
   "cell_type": "markdown",
   "metadata": {},
   "source": [
    "## Transforming a NumPy Array"
   ]
  },
  {
   "cell_type": "code",
   "execution_count": null,
   "metadata": {},
   "outputs": [],
   "source": [
    "arr_b = np.array([2, 15, 1, 0, 8, 21])\n",
    "\n",
    "# Changes the shape of a NumPy array\n",
    "# params: (array, [rows, cols])\n",
    "arr_reshape = np.reshape(arr_b, [2, 3])\n",
    "\n",
    "# Transposes a NumPy array\n",
    "arr_transpose = np.transpose(arr_reshape)\n",
    "\n",
    "print('np.reshape: ')\n",
    "print(arr_reshape)\n",
    "print('\\nnp.transpose: ')\n",
    "print(arr_transpose)"
   ]
  },
  {
   "attachments": {},
   "cell_type": "markdown",
   "metadata": {},
   "source": [
    "## NumPy Array Operations"
   ]
  },
  {
   "cell_type": "code",
   "execution_count": null,
   "metadata": {},
   "outputs": [],
   "source": [
    "arr_c = np.array([3, 1, 3, 0, 7, 9, 1])\n",
    "\n",
    "# Computes the sum of the elements in a NumPy array\n",
    "sum = np.sum(arr_c)\n",
    "# Computes the mean of the elements in a NumPy array\n",
    "mean = np.mean(arr_c)\n",
    "# Computes the standard deviation of the elements in a NumPy array\n",
    "std = np.std(arr_c)\n",
    "# Returns the unique elements in a NumPy array\n",
    "arr_unique = np.unique(arr_c)\n",
    "\n",
    "print(f'np.sum: {sum}')\n",
    "print(f'\\nnp.mean: {mean}')\n",
    "print(f'\\nnp.std: {std}')\n",
    "print('\\nnp.unique: ')\n",
    "print(arr_unique)\n"
   ]
  },
  {
   "cell_type": "code",
   "execution_count": null,
   "metadata": {},
   "outputs": [],
   "source": [
    "arr_d = np.array([3, 5, -3, -7, 13, 1])\n",
    "arr_e = np.array([6, 5, 10, -13, 0, 1])\n",
    "\n",
    "# Computes the minimum value in a NumPy array\n",
    "min = np.min(arr_d)\n",
    "# Computes the maximum value in a NumPy array\n",
    "max = np.max(arr_d)\n",
    "\n",
    "# Returns the index of the minimum value in a NumPy array\n",
    "argmin = np.argmin(arr_d)\n",
    "# Returns the index of the maximum value in a NumPy array\n",
    "argmax = np.argmax(arr_d)\n",
    "\n",
    "print(f'np.min: {min}')\n",
    "print(f'\\nnp.max: {max}')\n",
    "print(f'\\nnp.argmin: {argmin}')\n",
    "print(f'\\nnp.argmax: {argmax}')"
   ]
  },
  {
   "cell_type": "code",
   "execution_count": null,
   "metadata": {},
   "outputs": [],
   "source": [
    "# arr_d = np.array([3, 5, -3, -7, 13, 1])\n",
    "# arr_e = np.array([6, 5, 10, -13, 0, 1])\n",
    "\n",
    "# Returns the indices of the elements in a NumPy array that satisfy a given condition\n",
    "# params: (condition)\n",
    "equal = np.where(arr_d == arr_e)\n",
    "gte = np.where(arr_d >= arr_e)\n",
    "lt = np.where(arr_d < arr_e)\n",
    "\n",
    "print('Index where the values are equal: ')\n",
    "print(equal)\n",
    "print('\\nIndex where the values from arr_d >= arr_e: ')\n",
    "print(gte)\n",
    "print('\\nIndex where the values from arr_d < arr_e: ')\n",
    "print(lt)"
   ]
  },
  {
   "attachments": {},
   "cell_type": "markdown",
   "metadata": {},
   "source": [
    "## Multiple Array Operations"
   ]
  },
  {
   "cell_type": "code",
   "execution_count": null,
   "metadata": {},
   "outputs": [],
   "source": [
    "arr_f = np.array([4, 8, 1])\n",
    "arr_g = np.array([3, 0, 2])\n",
    "\n",
    "# Takes a sequence of arrays and joins them together along a given axis\n",
    "concat = np.concatenate([arr_f, arr_g])\n",
    "# Takes a sequence of arrays and stacks them vertically to create a new array\n",
    "v_stack = np.vstack([arr_f, arr_g])\n",
    "# Takes a sequence of arrays and stacks them horizontally to create a new array\n",
    "h_stack = np.hstack([arr_f, arr_g])\n",
    "\n",
    "print('np.concatenate: ')\n",
    "print(concat)\n",
    "print('\\nnp.vstack: ')\n",
    "print(v_stack)\n",
    "print('\\nnp.hstack: ')\n",
    "print(h_stack)"
   ]
  }
 ],
 "metadata": {
  "kernelspec": {
   "display_name": "env",
   "language": "python",
   "name": "python3"
  },
  "language_info": {
   "codemirror_mode": {
    "name": "ipython",
    "version": 3
   },
   "file_extension": ".py",
   "mimetype": "text/x-python",
   "name": "python",
   "nbconvert_exporter": "python",
   "pygments_lexer": "ipython3",
   "version": "3.9.13"
  },
  "orig_nbformat": 4,
  "vscode": {
   "interpreter": {
    "hash": "e98cb450986628e1ae7ef5ae3be438651912d33afe875bc91b9c3b36a96a2705"
   }
  }
 },
 "nbformat": 4,
 "nbformat_minor": 2
}
